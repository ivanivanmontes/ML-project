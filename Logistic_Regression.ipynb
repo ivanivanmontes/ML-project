{
 "cells": [
  {
   "cell_type": "code",
   "execution_count": 274,
   "id": "476140a9-5e01-4772-99e0-58e1c9d57a76",
   "metadata": {},
   "outputs": [],
   "source": [
    "import pandas as pd\n",
    "import numpy as np\n",
    "import random\n",
    "from sklearn.linear_model import LogisticRegression\n",
    "from sklearn.preprocessing import PolynomialFeatures\n",
    "from sklearn.decomposition import PCA\n",
    "from sklearn.metrics import accuracy_score, precision_score, recall_score, f1_score"
   ]
  },
  {
   "cell_type": "code",
   "execution_count": 275,
   "id": "652f7adf-a823-492f-8f1f-d1092027d428",
   "metadata": {},
   "outputs": [],
   "source": [
    "seed_value = 42 # set a seed value for reproducibility\n",
    "np.random.seed(seed_value)\n",
    "random.seed(seed_value)\n",
    "\n",
    "X_train = pd.read_csv(\"X_train.csv\")\n",
    "X_val = pd.read_csv(\"X_val.csv\")\n",
    "X_test = pd.read_csv(\"X_test.csv\")\n",
    "y_train = pd.read_csv(\"y_train.csv\").values.ravel()\n",
    "y_val = pd.read_csv(\"y_val.csv\").values.ravel()\n",
    "y_test = pd.read_csv(\"y_test.csv\").values.ravel()"
   ]
  },
  {
   "cell_type": "markdown",
   "id": "44e5db44-1b17-4e4b-abd9-5bb6083dcc43",
   "metadata": {},
   "source": [
    "### Train logistic regression model"
   ]
  },
  {
   "cell_type": "code",
   "execution_count": 277,
   "id": "7b5f1789-2908-43cf-9d24-4cbb5f7de8d3",
   "metadata": {},
   "outputs": [],
   "source": [
    "# Helper function to print results of the model\n",
    "def evaluate_model(model, X, y):\n",
    "    y_pred = model.predict(X)\n",
    "    accuracy = accuracy_score(y, y_pred)\n",
    "    precision = precision_score(y, y_pred)\n",
    "    recall = recall_score(y, y_pred)\n",
    "    f1 = f1_score(y, y_pred)\n",
    "    print(f\"Accuracy: {accuracy:.2f}\")\n",
    "    print(f\"Precision: {precision:.2f}\")\n",
    "    print(f\"Recall: {recall:.2f}\")\n",
    "    print(f\"F1-Score: {f1:.2f}\")\n",
    "    return accuracy, precision, recall, f1"
   ]
  },
  {
   "cell_type": "code",
   "execution_count": 278,
   "id": "f40183bd-51c6-4b59-acfd-2d4e34403609",
   "metadata": {
    "scrolled": true
   },
   "outputs": [
    {
     "name": "stdout",
     "output_type": "stream",
     "text": [
      "\n",
      "Logistic Regression with Original Features:\n",
      "Regularization C=0.01\n",
      "Validation Metrics:\n",
      "Accuracy: 0.91\n",
      "Precision: 0.96\n",
      "Recall: 0.88\n",
      "F1-Score: 0.92\n",
      "----------------------------------------\n",
      "Regularization C=0.1\n",
      "Validation Metrics:\n",
      "Accuracy: 0.90\n",
      "Precision: 0.95\n",
      "Recall: 0.90\n",
      "F1-Score: 0.92\n",
      "----------------------------------------\n",
      "Regularization C=1\n",
      "Validation Metrics:\n",
      "Accuracy: 0.90\n",
      "Precision: 0.94\n",
      "Recall: 0.90\n",
      "F1-Score: 0.92\n",
      "----------------------------------------\n",
      "Regularization C=10\n",
      "Validation Metrics:\n",
      "Accuracy: 0.90\n",
      "Precision: 0.94\n",
      "Recall: 0.90\n",
      "F1-Score: 0.92\n",
      "----------------------------------------\n",
      "Regularization C=100\n",
      "Validation Metrics:\n",
      "Accuracy: 0.90\n",
      "Precision: 0.94\n",
      "Recall: 0.90\n",
      "F1-Score: 0.92\n",
      "----------------------------------------\n",
      "Regularization C=1000\n",
      "Validation Metrics:\n",
      "Accuracy: 0.90\n",
      "Precision: 0.94\n",
      "Recall: 0.90\n",
      "F1-Score: 0.92\n",
      "----------------------------------------\n"
     ]
    }
   ],
   "source": [
    "# model 1: Logistic Regression with Original Features and 6 different regularization values\n",
    "print(\"\\nLogistic Regression with Original Features:\")\n",
    "for C in [0.01, 0.1, 1, 10, 100, 1000]:\n",
    "    print(f\"Regularization C={C}\")\n",
    "    logistic_model = LogisticRegression(C=C, penalty='l2', solver='liblinear', random_state=seed_value)\n",
    "    logistic_model.fit(X_train, y_train)\n",
    "    print(\"Validation Metrics:\")\n",
    "    evaluate_model(logistic_model, X_val, y_val)\n",
    "    print(\"-\" * 40)"
   ]
  },
  {
   "cell_type": "code",
   "execution_count": 279,
   "id": "05ac7235-3246-47b3-a304-102e6262ad18",
   "metadata": {
    "scrolled": true
   },
   "outputs": [
    {
     "name": "stdout",
     "output_type": "stream",
     "text": [
      "\n",
      "Logistic Regression with Polynomial Features (degree 2):\n",
      "Regularization C=0.01\n",
      "Validation Metrics:\n",
      "Accuracy: 0.91\n",
      "Precision: 0.94\n",
      "Recall: 0.91\n",
      "F1-Score: 0.93\n",
      "----------------------------------------\n",
      "Regularization C=0.1\n",
      "Validation Metrics:\n",
      "Accuracy: 0.91\n",
      "Precision: 0.94\n",
      "Recall: 0.92\n",
      "F1-Score: 0.93\n",
      "----------------------------------------\n",
      "Regularization C=1\n",
      "Validation Metrics:\n",
      "Accuracy: 0.94\n",
      "Precision: 0.95\n",
      "Recall: 0.94\n",
      "F1-Score: 0.95\n",
      "----------------------------------------\n",
      "Regularization C=10\n",
      "Validation Metrics:\n",
      "Accuracy: 0.93\n",
      "Precision: 0.95\n",
      "Recall: 0.94\n",
      "F1-Score: 0.95\n",
      "----------------------------------------\n",
      "Regularization C=100\n",
      "Validation Metrics:\n",
      "Accuracy: 0.93\n",
      "Precision: 0.95\n",
      "Recall: 0.94\n",
      "F1-Score: 0.95\n",
      "----------------------------------------\n",
      "Regularization C=1000\n",
      "Validation Metrics:\n",
      "Accuracy: 0.93\n",
      "Precision: 0.95\n",
      "Recall: 0.94\n",
      "F1-Score: 0.95\n",
      "----------------------------------------\n"
     ]
    }
   ],
   "source": [
    "# model 2: Polynomial Features + Logistic Regression\n",
    "print(\"\\nLogistic Regression with Polynomial Features (degree 2):\")\n",
    "poly = PolynomialFeatures(degree=2, include_bias=False)\n",
    "X_train_poly = poly.fit_transform(X_train)\n",
    "X_val_poly = poly.transform(X_val)\n",
    "\n",
    "for C in [0.01, 0.1, 1, 10, 100, 1000]:\n",
    "    print(f\"Regularization C={C}\")\n",
    "    logistic_model = LogisticRegression(C=C, penalty='l1', solver='liblinear', random_state=seed_value)\n",
    "    logistic_model.fit(X_train_poly, y_train)\n",
    "    print(\"Validation Metrics:\")\n",
    "    evaluate_model(logistic_model, X_val_poly, y_val)\n",
    "    print(\"-\" * 40)"
   ]
  },
  {
   "cell_type": "code",
   "execution_count": 280,
   "id": "66c04fd5-8203-40be-9316-6ffadeb5ac4b",
   "metadata": {
    "scrolled": true
   },
   "outputs": [
    {
     "name": "stdout",
     "output_type": "stream",
     "text": [
      "\n",
      "Logistic Regression with PCA Transformation (95% variance retained):\n",
      "Regularization C=0.01\n",
      "Validation Metrics:\n",
      "Accuracy: 0.47\n",
      "Precision: 0.60\n",
      "Recall: 0.48\n",
      "F1-Score: 0.53\n",
      "----------------------------------------\n",
      "Regularization C=0.1\n",
      "Validation Metrics:\n",
      "Accuracy: 0.47\n",
      "Precision: 0.60\n",
      "Recall: 0.48\n",
      "F1-Score: 0.53\n",
      "----------------------------------------\n",
      "Regularization C=1\n",
      "Validation Metrics:\n",
      "Accuracy: 0.47\n",
      "Precision: 0.60\n",
      "Recall: 0.48\n",
      "F1-Score: 0.53\n",
      "----------------------------------------\n",
      "Regularization C=10\n",
      "Validation Metrics:\n",
      "Accuracy: 0.47\n",
      "Precision: 0.60\n",
      "Recall: 0.48\n",
      "F1-Score: 0.53\n",
      "----------------------------------------\n",
      "Regularization C=100\n",
      "Validation Metrics:\n",
      "Accuracy: 0.47\n",
      "Precision: 0.60\n",
      "Recall: 0.48\n",
      "F1-Score: 0.53\n",
      "----------------------------------------\n",
      "Regularization C=1000\n",
      "Validation Metrics:\n",
      "Accuracy: 0.47\n",
      "Precision: 0.60\n",
      "Recall: 0.48\n",
      "F1-Score: 0.53\n",
      "----------------------------------------\n"
     ]
    }
   ],
   "source": [
    "# model 3: PCA Transformation + Logistic Regression\n",
    "print(\"\\nLogistic Regression with PCA Transformation (95% variance retained):\")\n",
    "pca = PCA(n_components=0.95)\n",
    "X_train_pca = pca.fit_transform(X_train)\n",
    "X_val_pca = pca.transform(X_val)\n",
    "\n",
    "for C in [0.01, 0.1, 1, 10, 100, 1000]:\n",
    "    print(f\"Regularization C={C}\")\n",
    "    logistic_model = LogisticRegression(C=C, penalty='l1', solver='liblinear', random_state=seed_value)\n",
    "    logistic_model.fit(X_train_pca, y_train)\n",
    "    print(\"Validation Metrics:\")\n",
    "    evaluate_model(logistic_model, X_val_pca, y_val)\n",
    "    print(\"-\" * 40)"
   ]
  },
  {
   "cell_type": "markdown",
   "id": "c7f77205-5259-498e-a486-e836090e09b5",
   "metadata": {},
   "source": [
    "### Lets do a final run on the test data"
   ]
  },
  {
   "cell_type": "code",
   "execution_count": 282,
   "id": "99ae5213-6511-4f3e-b3a7-a8198607cd87",
   "metadata": {},
   "outputs": [
    {
     "name": "stdout",
     "output_type": "stream",
     "text": [
      "Test Set Metrics for Logistic Regression (C=10):\n",
      "Accuracy: 0.91\n",
      "Precision: 0.95\n",
      "Recall: 0.90\n",
      "F1-Score: 0.93\n"
     ]
    }
   ],
   "source": [
    "# Best Logistic Regression Model: PCA transformation\n",
    "pca = PCA(n_components=0.95)\n",
    "X_train_pca = pca.fit_transform(X_train)\n",
    "X_val_pca = pca.transform(X_val)\n",
    "logistic_model = LogisticRegression(C=C, penalty='l1', solver='liblinear', random_state=seed_value)\n",
    "logistic_model.fit(X_train, y_train)\n",
    "# Evaluate on Test Set\n",
    "y_test_pred = logistic_model.predict(X_test)\n",
    "\n",
    "accuracy = accuracy_score(y_test, y_test_pred)\n",
    "precision = precision_score(y_test, y_test_pred)\n",
    "recall = recall_score(y_test, y_test_pred)\n",
    "f1 = f1_score(y_test, y_test_pred)\n",
    "\n",
    "print(f\"Test Set Metrics for Logistic Regression (C=10):\")\n",
    "print(f\"Accuracy: {accuracy:.2f}\")\n",
    "print(f\"Precision: {precision:.2f}\")\n",
    "print(f\"Recall: {recall:.2f}\")\n",
    "print(f\"F1-Score: {f1:.2f}\")"
   ]
  },
  {
   "cell_type": "code",
   "execution_count": null,
   "id": "87b85167-64ea-41e3-8b95-eb1f3b258d85",
   "metadata": {},
   "outputs": [],
   "source": []
  },
  {
   "cell_type": "code",
   "execution_count": null,
   "id": "b8f4d662-d06b-441a-805f-137a76f815f2",
   "metadata": {},
   "outputs": [],
   "source": []
  }
 ],
 "metadata": {
  "kernelspec": {
   "display_name": "Python 3 (ipykernel)",
   "language": "python",
   "name": "python3"
  },
  "language_info": {
   "codemirror_mode": {
    "name": "ipython",
    "version": 3
   },
   "file_extension": ".py",
   "mimetype": "text/x-python",
   "name": "python",
   "nbconvert_exporter": "python",
   "pygments_lexer": "ipython3",
   "version": "3.12.4"
  }
 },
 "nbformat": 4,
 "nbformat_minor": 5
}
