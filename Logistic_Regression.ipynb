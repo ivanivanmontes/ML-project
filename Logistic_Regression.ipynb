{
 "cells": [
  {
   "cell_type": "code",
   "execution_count": 225,
   "id": "476140a9-5e01-4772-99e0-58e1c9d57a76",
   "metadata": {},
   "outputs": [],
   "source": [
    "import pandas as pd\n",
    "import numpy as np\n",
    "import random\n",
    "from sklearn.linear_model import LogisticRegression\n",
    "from sklearn.preprocessing import PolynomialFeatures\n",
    "from sklearn.decomposition import PCA\n",
    "from sklearn.metrics import accuracy_score, precision_score, recall_score, f1_score"
   ]
  },
  {
   "cell_type": "markdown",
   "id": "b04d3933-8e3e-4ff2-aaf2-5c2a333ef2fb",
   "metadata": {},
   "source": [
    "### set a seed value for reproducibility"
   ]
  },
  {
   "cell_type": "code",
   "execution_count": 227,
   "id": "652f7adf-a823-492f-8f1f-d1092027d428",
   "metadata": {},
   "outputs": [],
   "source": [
    "seed_value = 42\n",
    "np.random.seed(seed_value)\n",
    "random.seed(seed_value)\n",
    "\n",
    "# Load preprocessed data\n",
    "X_train = pd.read_csv(\"X_train.csv\")\n",
    "X_val = pd.read_csv(\"X_val.csv\")\n",
    "X_test = pd.read_csv(\"X_test.csv\")\n",
    "y_train = pd.read_csv(\"y_train.csv\").values.ravel()\n",
    "y_val = pd.read_csv(\"y_val.csv\").values.ravel()\n",
    "y_test = pd.read_csv(\"y_test.csv\").values.ravel()\n"
   ]
  },
  {
   "cell_type": "markdown",
   "id": "44e5db44-1b17-4e4b-abd9-5bb6083dcc43",
   "metadata": {},
   "source": [
    "### Train logistic regression model"
   ]
  },
  {
   "cell_type": "code",
   "execution_count": 229,
   "id": "7b5f1789-2908-43cf-9d24-4cbb5f7de8d3",
   "metadata": {},
   "outputs": [],
   "source": [
    "# Helper function to evaluate the model\n",
    "def evaluate_model(model, X, y):\n",
    "    y_pred = model.predict(X)\n",
    "    accuracy = accuracy_score(y, y_pred)\n",
    "    precision = precision_score(y, y_pred)\n",
    "    recall = recall_score(y, y_pred)\n",
    "    f1 = f1_score(y, y_pred)\n",
    "    print(f\"Accuracy: {accuracy:.2f}\")\n",
    "    print(f\"Precision: {precision:.2f}\")\n",
    "    print(f\"Recall: {recall:.2f}\")\n",
    "    print(f\"F1-Score: {f1:.2f}\")\n",
    "    return accuracy, precision, recall, f1"
   ]
  },
  {
   "cell_type": "code",
   "execution_count": 230,
   "id": "f40183bd-51c6-4b59-acfd-2d4e34403609",
   "metadata": {},
   "outputs": [
    {
     "name": "stdout",
     "output_type": "stream",
     "text": [
      "\n",
      "Logistic Regression with Original Features:\n",
      "Regularization C=0.01\n",
      "Validation Metrics:\n",
      "Accuracy: 0.90\n",
      "Precision: 0.92\n",
      "Recall: 0.91\n",
      "F1-Score: 0.92\n",
      "----------------------------------------\n",
      "Regularization C=0.1\n",
      "Validation Metrics:\n",
      "Accuracy: 0.90\n",
      "Precision: 0.92\n",
      "Recall: 0.92\n",
      "F1-Score: 0.92\n",
      "----------------------------------------\n",
      "Regularization C=1\n",
      "Validation Metrics:\n",
      "Accuracy: 0.90\n",
      "Precision: 0.91\n",
      "Recall: 0.93\n",
      "F1-Score: 0.92\n",
      "----------------------------------------\n",
      "Regularization C=10\n",
      "Validation Metrics:\n",
      "Accuracy: 0.90\n",
      "Precision: 0.91\n",
      "Recall: 0.93\n",
      "F1-Score: 0.92\n",
      "----------------------------------------\n",
      "Regularization C=100\n",
      "Validation Metrics:\n",
      "Accuracy: 0.90\n",
      "Precision: 0.92\n",
      "Recall: 0.93\n",
      "F1-Score: 0.92\n",
      "----------------------------------------\n",
      "Regularization C=1000\n",
      "Validation Metrics:\n",
      "Accuracy: 0.90\n",
      "Precision: 0.91\n",
      "Recall: 0.93\n",
      "F1-Score: 0.92\n",
      "----------------------------------------\n"
     ]
    }
   ],
   "source": [
    "# Experiment 1: Logistic Regression with Original Features (6 different regularization values)\n",
    "print(\"\\nLogistic Regression with Original Features:\")\n",
    "for C in [0.01, 0.1, 1, 10, 100, 1000]:\n",
    "    print(f\"Regularization C={C}\")\n",
    "    logistic_model = LogisticRegression(C=C, penalty='l2', solver='liblinear', random_state=seed_value)\n",
    "    logistic_model.fit(X_train, y_train)\n",
    "    print(\"Validation Metrics:\")\n",
    "    evaluate_model(logistic_model, X_val, y_val)\n",
    "    print(\"-\" * 40)"
   ]
  },
  {
   "cell_type": "code",
   "execution_count": 231,
   "id": "05ac7235-3246-47b3-a304-102e6262ad18",
   "metadata": {},
   "outputs": [
    {
     "name": "stdout",
     "output_type": "stream",
     "text": [
      "\n",
      "Logistic Regression with Polynomial Features (degree 2):\n",
      "Regularization C=0.01\n",
      "Validation Metrics:\n",
      "Accuracy: 0.90\n",
      "Precision: 0.92\n",
      "Recall: 0.92\n",
      "F1-Score: 0.92\n",
      "----------------------------------------\n",
      "Regularization C=0.1\n",
      "Validation Metrics:\n",
      "Accuracy: 0.90\n",
      "Precision: 0.92\n",
      "Recall: 0.92\n",
      "F1-Score: 0.92\n",
      "----------------------------------------\n",
      "Regularization C=1\n",
      "Validation Metrics:\n",
      "Accuracy: 0.90\n",
      "Precision: 0.92\n",
      "Recall: 0.92\n",
      "F1-Score: 0.92\n",
      "----------------------------------------\n",
      "Regularization C=10\n",
      "Validation Metrics:\n",
      "Accuracy: 0.90\n",
      "Precision: 0.92\n",
      "Recall: 0.92\n",
      "F1-Score: 0.92\n",
      "----------------------------------------\n",
      "Regularization C=100\n",
      "Validation Metrics:\n",
      "Accuracy: 0.90\n",
      "Precision: 0.92\n",
      "Recall: 0.92\n",
      "F1-Score: 0.92\n",
      "----------------------------------------\n",
      "Regularization C=1000\n",
      "Validation Metrics:\n",
      "Accuracy: 0.90\n",
      "Precision: 0.92\n",
      "Recall: 0.92\n",
      "F1-Score: 0.92\n",
      "----------------------------------------\n"
     ]
    }
   ],
   "source": [
    "# Experiment 2: Polynomial Features (degree 2) + Logistic Regression\n",
    "print(\"\\nLogistic Regression with Polynomial Features (degree 2):\")\n",
    "poly = PolynomialFeatures(degree=2, include_bias=False)\n",
    "X_train_poly = poly.fit_transform(X_train)\n",
    "X_val_poly = poly.transform(X_val)\n",
    "\n",
    "for C in [0.01, 0.1, 1, 10, 100, 1000]:\n",
    "    print(f\"Regularization C={C}\")\n",
    "    logistic_model = LogisticRegression(C=C, penalty='l2', solver='liblinear', random_state=seed_value)\n",
    "    logistic_model.fit(X_train_poly, y_train)\n",
    "    print(\"Validation Metrics:\")\n",
    "    evaluate_model(logistic_model, X_val_poly, y_val)\n",
    "    print(\"-\" * 40)"
   ]
  },
  {
   "cell_type": "code",
   "execution_count": 232,
   "id": "66c04fd5-8203-40be-9316-6ffadeb5ac4b",
   "metadata": {},
   "outputs": [
    {
     "name": "stdout",
     "output_type": "stream",
     "text": [
      "\n",
      "Logistic Regression with PCA Transformation:\n",
      "Regularization C=0.01\n",
      "Validation Metrics:\n",
      "Accuracy: 0.62\n",
      "Precision: 0.62\n",
      "Recall: 1.00\n",
      "F1-Score: 0.77\n",
      "----------------------------------------\n",
      "Regularization C=0.1\n",
      "Validation Metrics:\n",
      "Accuracy: 0.62\n",
      "Precision: 0.62\n",
      "Recall: 1.00\n",
      "F1-Score: 0.77\n",
      "----------------------------------------\n",
      "Regularization C=1\n",
      "Validation Metrics:\n",
      "Accuracy: 0.62\n",
      "Precision: 0.62\n",
      "Recall: 1.00\n",
      "F1-Score: 0.77\n",
      "----------------------------------------\n",
      "Regularization C=10\n",
      "Validation Metrics:\n",
      "Accuracy: 0.62\n",
      "Precision: 0.62\n",
      "Recall: 1.00\n",
      "F1-Score: 0.77\n",
      "----------------------------------------\n",
      "Regularization C=100\n",
      "Validation Metrics:\n",
      "Accuracy: 0.62\n",
      "Precision: 0.62\n",
      "Recall: 1.00\n",
      "F1-Score: 0.77\n",
      "----------------------------------------\n",
      "Regularization C=1000\n",
      "Validation Metrics:\n",
      "Accuracy: 0.62\n",
      "Precision: 0.62\n",
      "Recall: 1.00\n",
      "F1-Score: 0.77\n",
      "----------------------------------------\n"
     ]
    }
   ],
   "source": [
    "# Experiment 3: PCA Transformation + Logistic Regression\n",
    "print(\"\\nLogistic Regression with PCA Transformation:\")\n",
    "pca = PCA(n_components=0.95)\n",
    "X_train_pca = pca.fit_transform(X_train)\n",
    "X_val_pca = pca.transform(X_val)\n",
    "\n",
    "for C in [0.01, 0.1, 1, 10, 100, 1000]:\n",
    "    print(f\"Regularization C={C}\")\n",
    "    logistic_model = LogisticRegression(C=C, penalty='l2', solver='liblinear', random_state=seed_value)\n",
    "    logistic_model.fit(X_train_pca, y_train)\n",
    "    print(\"Validation Metrics:\")\n",
    "    evaluate_model(logistic_model, X_val_pca, y_val)\n",
    "    print(\"-\" * 40)"
   ]
  }
 ],
 "metadata": {
  "kernelspec": {
   "display_name": "Python 3 (ipykernel)",
   "language": "python",
   "name": "python3"
  },
  "language_info": {
   "codemirror_mode": {
    "name": "ipython",
    "version": 3
   },
   "file_extension": ".py",
   "mimetype": "text/x-python",
   "name": "python",
   "nbconvert_exporter": "python",
   "pygments_lexer": "ipython3",
   "version": "3.12.4"
  }
 },
 "nbformat": 4,
 "nbformat_minor": 5
}
