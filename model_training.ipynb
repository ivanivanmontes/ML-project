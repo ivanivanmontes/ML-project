{
 "cells": [
  {
   "cell_type": "markdown",
   "id": "98908394-f5e3-4283-ad55-715f9fd6936d",
   "metadata": {},
   "source": [
    "# Loan Approval Prediction\n",
    "\n",
    "### Project Overview\n",
    "This project uses the Loan Approval Prediction dataset from Kaggle to build models that predict loan status (approved or denied).\n"
   ]
  },
  {
   "cell_type": "code",
   "execution_count": 123,
   "id": "2fe93173-a9d6-472f-900c-c28bbae55087",
   "metadata": {},
   "outputs": [],
   "source": [
    "# Basics\n",
    "import pandas as pd\n",
    "import numpy as np\n",
    "\n",
    "# Visualization\n",
    "import matplotlib.pyplot as plt\n",
    "import seaborn as sns\n",
    "\n",
    "# Machine Learning\n",
    "from sklearn.model_selection import train_test_split\n",
    "from sklearn.preprocessing import StandardScaler, OneHotEncoder\n",
    "from sklearn.linear_model import LogisticRegression\n",
    "from sklearn.svm import SVC\n",
    "from sklearn.metrics import accuracy_score, precision_score, recall_score, confusion_matrix\n",
    "import tensorflow as tf\n",
    "from tensorflow.keras.models import Sequential\n",
    "from tensorflow.keras.layers import Dense"
   ]
  },
  {
   "cell_type": "code",
   "execution_count": 124,
   "id": "a2c94eaf-b96c-4dc8-99fe-8fd0dee4923b",
   "metadata": {},
   "outputs": [],
   "source": [
    "import pandas as pd\n",
    "\n",
    "# Adjust the file name if necessary\n",
    "data = pd.read_csv(\"loan_approval_dataset.csv\")\n",
    "\n",
    "# Display the first few rows\n",
    "data.columns = data.columns.str.strip() # remove whitespace"
   ]
  },
  {
   "cell_type": "markdown",
   "id": "7574215b-3a21-45cf-9c1d-fcde10e0c44d",
   "metadata": {},
   "source": [
    "### doing some one hot encoding for education, self_employed, and loan_status"
   ]
  },
  {
   "cell_type": "code",
   "execution_count": 126,
   "id": "edbba01d-e6b5-4d5a-8010-28321aa1c383",
   "metadata": {},
   "outputs": [
    {
     "name": "stdout",
     "output_type": "stream",
     "text": [
      "Index(['loan_id', 'no_of_dependents', 'income_annum', 'loan_amount',\n",
      "       'loan_term', 'cibil_score', 'residential_assets_value',\n",
      "       'commercial_assets_value', 'luxury_assets_value', 'bank_asset_value',\n",
      "       'education_ Graduate', 'education_ Not Graduate', 'self_employed_ No',\n",
      "       'self_employed_ Yes', 'loan_status_ Approved', 'loan_status_ Rejected'],\n",
      "      dtype='object')\n"
     ]
    }
   ],
   "source": [
    "encoder = OneHotEncoder(sparse_output=False)\n",
    "categorical_features = ['education', 'self_employed', 'loan_status']\n",
    "encoded_features = encoder.fit_transform(data[categorical_features])\n",
    "encoded_df = pd.DataFrame(encoded_features, columns=encoder.get_feature_names_out())\n",
    "\n",
    "# Add encoded features back to the data\n",
    "data = pd.concat([data, encoded_df], axis=1).drop(categorical_features, axis=1)\n",
    "\n",
    "# verify that one hot encoding turns them into numerical values\n",
    "print(data.columns)\n",
    "\n",
    "# change columns for education and self_employed\n",
    "data['education'] = data['education_ Graduate']\n",
    "data = data.drop(['education_ Graduate', 'education_ Not Graduate'], axis=1)\n",
    "data['self_employed'] = data['self_employed_ Yes']\n",
    "data = data.drop(['self_employed_ Yes', 'self_employed_ No'], axis=1)\n",
    "\n",
    "# and of course for loan_status\n",
    "data['loan_status'] = data['loan_status_ Approved']\n",
    "data = data.drop(['loan_status_ Approved', 'loan_status_ Rejected'], axis=1)\n",
    "\n",
    "\n",
    "\n",
    "# lets see if that fixed the trick"
   ]
  },
  {
   "cell_type": "markdown",
   "id": "e710ff58-e3d0-4a19-9f8f-711db1567d17",
   "metadata": {},
   "source": [
    "### scaling some features "
   ]
  },
  {
   "cell_type": "code",
   "execution_count": 128,
   "id": "bea85ea0-7db0-42b6-a95e-89a586839cf3",
   "metadata": {},
   "outputs": [],
   "source": [
    "# List of numerical features to scale\n",
    "numeric_features = [\n",
    "    'income_annum', 'loan_amount', 'loan_term', 'cibil_score',\n",
    "    'residential_assets_value', 'commercial_assets_value',\n",
    "    'luxury_assets_value', 'bank_asset_value'\n",
    "]\n",
    "\n",
    "# Initialize the scaler\n",
    "scaler = StandardScaler()\n",
    "\n",
    "# Apply scaling to numerical features. numerical features should now have a mean of 0 and std deviation of 1\n",
    "data[numeric_features] = scaler.fit_transform(data[numeric_features])"
   ]
  },
  {
   "cell_type": "markdown",
   "id": "5683a7d9-a346-4176-bfc0-5f8a2bd5e492",
   "metadata": {},
   "source": [
    "### splitting some data"
   ]
  },
  {
   "cell_type": "code",
   "execution_count": 130,
   "id": "2fa2462f-7df1-46f4-8bf3-a3c90ad6094d",
   "metadata": {},
   "outputs": [
    {
     "name": "stdout",
     "output_type": "stream",
     "text": [
      "Training set: (2988, 12) (2988,)\n",
      "Validation set: (640, 12) (640,)\n",
      "Test set: (641, 12) (641,)\n"
     ]
    }
   ],
   "source": [
    "# Define features and target variable\n",
    "X = data.drop('loan_status', axis=1)  # Features\n",
    "y = data['loan_status']              # Target\n",
    "\n",
    "# Split data: 70% train, 15% validation, 15% test\n",
    "X_train, X_temp, y_train, y_temp = train_test_split(X, y, test_size=0.3, random_state=42)\n",
    "X_val, X_test, y_val, y_test = train_test_split(X_temp, y_temp, test_size=0.5, random_state=42)\n",
    "\n",
    "# making sure the number of labels match up\n",
    "print(\"Training set:\", X_train.shape, y_train.shape)\n",
    "print(\"Validation set:\", X_val.shape, y_val.shape)\n",
    "print(\"Test set:\", X_test.shape, y_test.shape)"
   ]
  },
  {
   "cell_type": "markdown",
   "id": "ae470eec-4751-40a6-b480-1c97a57ce119",
   "metadata": {},
   "source": [
    "# train logistic regression model"
   ]
  },
  {
   "cell_type": "code",
   "execution_count": null,
   "id": "7655d82a-866b-45cd-981c-187da6a7a8b7",
   "metadata": {},
   "outputs": [],
   "source": []
  }
 ],
 "metadata": {
  "kernelspec": {
   "display_name": "Python 3 (ipykernel)",
   "language": "python",
   "name": "python3"
  },
  "language_info": {
   "codemirror_mode": {
    "name": "ipython",
    "version": 3
   },
   "file_extension": ".py",
   "mimetype": "text/x-python",
   "name": "python",
   "nbconvert_exporter": "python",
   "pygments_lexer": "ipython3",
   "version": "3.12.4"
  }
 },
 "nbformat": 4,
 "nbformat_minor": 5
}
