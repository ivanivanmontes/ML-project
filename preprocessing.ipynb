{
 "cells": [
  {
   "cell_type": "markdown",
   "id": "adb22a6c-e17b-46cd-8d03-3a10ef51a1fc",
   "metadata": {},
   "source": [
    "## Here we preprocess the data and save the training, testing, and validation data into their respective .csv files for easy access"
   ]
  },
  {
   "cell_type": "markdown",
   "id": "a97d7eb4-1955-4496-befd-b36b456590be",
   "metadata": {},
   "source": [
    "### TODO: clean up formatting "
   ]
  },
  {
   "cell_type": "code",
   "execution_count": 39,
   "id": "2a62c0cc-6d53-4f88-a912-3f7ea85e90ba",
   "metadata": {},
   "outputs": [],
   "source": [
    "import pandas as pd\n",
    "from sklearn.model_selection import train_test_split\n",
    "from sklearn.preprocessing import StandardScaler, OneHotEncoder"
   ]
  },
  {
   "cell_type": "code",
   "execution_count": 40,
   "id": "90f363e5-5228-4881-b988-2feb932b1344",
   "metadata": {},
   "outputs": [],
   "source": [
    "# Adjust the file name if necessary\n",
    "data = pd.read_csv(\"loan_approval_dataset.csv\")\n",
    "\n",
    "# Display the first few rows\n",
    "data.columns = data.columns.str.strip() # remove whitespace"
   ]
  },
  {
   "cell_type": "markdown",
   "id": "05742b7b-da8e-45e7-9af5-be2c0904b04b",
   "metadata": {},
   "source": [
    "### one-hot encoding the education, self_employed, and loan_status attributes"
   ]
  },
  {
   "cell_type": "code",
   "execution_count": 42,
   "id": "5eed566f-79ab-4a23-b12f-6c460cf66ce9",
   "metadata": {},
   "outputs": [
    {
     "name": "stdout",
     "output_type": "stream",
     "text": [
      "Index(['loan_id', 'no_of_dependents', 'income_annum', 'loan_amount',\n",
      "       'loan_term', 'cibil_score', 'residential_assets_value',\n",
      "       'commercial_assets_value', 'luxury_assets_value', 'bank_asset_value',\n",
      "       'education', 'self_employed', 'loan_status'],\n",
      "      dtype='object')\n"
     ]
    }
   ],
   "source": [
    "encoder = OneHotEncoder(sparse_output=False)\n",
    "categorical_features = ['education', 'self_employed', 'loan_status']\n",
    "encoded_features = encoder.fit_transform(data[categorical_features])\n",
    "encoded_df = pd.DataFrame(encoded_features, columns=encoder.get_feature_names_out())\n",
    "\n",
    "# Add encoded features back to the data\n",
    "data = pd.concat([data, encoded_df], axis=1).drop(categorical_features, axis=1)\n",
    "\n",
    "# verify that one hot encoding turns them into numerical values\n",
    "\n",
    "# change columns for education and self_employed\n",
    "data['education'] = data['education_ Graduate']\n",
    "data = data.drop(['education_ Graduate', 'education_ Not Graduate'], axis=1)\n",
    "data['self_employed'] = data['self_employed_ Yes']\n",
    "data = data.drop(['self_employed_ Yes', 'self_employed_ No'], axis=1)\n",
    "\n",
    "# and of course for loan_status\n",
    "data['loan_status'] = data['loan_status_ Approved']\n",
    "data = data.drop(['loan_status_ Approved', 'loan_status_ Rejected'], axis=1)\n",
    "\n",
    "print(data.columns)"
   ]
  },
  {
   "cell_type": "markdown",
   "id": "fd0d2c1f-1855-4cca-9736-c1773d232163",
   "metadata": {},
   "source": [
    "### feature scaling"
   ]
  },
  {
   "cell_type": "code",
   "execution_count": 44,
   "id": "b921736b-9b56-4d1d-b742-14eff4be8c6d",
   "metadata": {},
   "outputs": [],
   "source": [
    "# List of numerical features to scale\n",
    "numeric_features = [\n",
    "    'income_annum', 'loan_amount', 'loan_term', 'cibil_score',\n",
    "    'residential_assets_value', 'commercial_assets_value',\n",
    "    'luxury_assets_value', 'bank_asset_value'\n",
    "]\n",
    "\n",
    "# Initialize the scaler\n",
    "scaler = StandardScaler()\n",
    "\n",
    "# Apply scaling to numerical features. numerical features should now have a mean of 0 and std deviation of 1\n",
    "data[numeric_features] = scaler.fit_transform(data[numeric_features])"
   ]
  },
  {
   "cell_type": "markdown",
   "id": "20484b31-75f0-4b5c-9d5c-637dc09e8ea1",
   "metadata": {},
   "source": [
    "### data splitting"
   ]
  },
  {
   "cell_type": "code",
   "execution_count": 46,
   "id": "3d1822d6-d9bc-4429-a04d-226e1980e636",
   "metadata": {},
   "outputs": [
    {
     "name": "stdout",
     "output_type": "stream",
     "text": [
      "Training set: (2988, 12) (2988,)\n",
      "Validation set: (640, 12) (640,)\n",
      "Test set: (641, 12) (641,)\n"
     ]
    }
   ],
   "source": [
    "# Define features and target variable\n",
    "X = data.drop('loan_status', axis=1)  # Features\n",
    "y = data['loan_status']              # Target\n",
    "\n",
    "# Split data: 70% train, 15% validation, 15% test\n",
    "X_train, X_temp, y_train, y_temp = train_test_split(X, y, test_size=0.3, random_state=42)\n",
    "X_val, X_test, y_val, y_test = train_test_split(X_temp, y_temp, test_size=0.5, random_state=42)\n",
    "\n",
    "# making sure the number of labels match up\n",
    "print(\"Training set:\", X_train.shape, y_train.shape)\n",
    "print(\"Validation set:\", X_val.shape, y_val.shape)\n",
    "print(\"Test set:\", X_test.shape, y_test.shape)"
   ]
  },
  {
   "cell_type": "markdown",
   "id": "05baf258-bc88-4f15-bcbd-d969764a6aa0",
   "metadata": {},
   "source": [
    "### Finally, save the training, validation, and testing samples to their respective .csv files"
   ]
  },
  {
   "cell_type": "code",
   "execution_count": 48,
   "id": "a9bb1d18-63d3-4982-8981-b35c6a073407",
   "metadata": {},
   "outputs": [],
   "source": [
    "# Save processed data to files\n",
    "X_train.to_csv(\"X_train.csv\", index=False)\n",
    "X_val.to_csv(\"X_val.csv\", index=False)\n",
    "X_test.to_csv(\"X_test.csv\", index=False)\n",
    "y_train.to_csv(\"y_train.csv\", index=False)\n",
    "y_val.to_csv(\"y_val.csv\", index=False)\n",
    "y_test.to_csv(\"y_test.csv\", index=False)"
   ]
  },
  {
   "cell_type": "code",
   "execution_count": null,
   "id": "37499a9f-4f47-4c4a-ab86-28015520e794",
   "metadata": {},
   "outputs": [],
   "source": []
  }
 ],
 "metadata": {
  "kernelspec": {
   "display_name": "Python 3 (ipykernel)",
   "language": "python",
   "name": "python3"
  },
  "language_info": {
   "codemirror_mode": {
    "name": "ipython",
    "version": 3
   },
   "file_extension": ".py",
   "mimetype": "text/x-python",
   "name": "python",
   "nbconvert_exporter": "python",
   "pygments_lexer": "ipython3",
   "version": "3.12.4"
  }
 },
 "nbformat": 4,
 "nbformat_minor": 5
}
