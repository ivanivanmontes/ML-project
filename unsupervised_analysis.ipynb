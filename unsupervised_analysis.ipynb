{
 "cells": [
  {
   "cell_type": "code",
   "execution_count": null,
   "id": "15cf08d0-2f99-42cd-871e-b5fe37063900",
   "metadata": {},
   "outputs": [],
   "source": [
    "import numpy as np\n",
    "import matplotlib.pyplot as plt\n",
    "import pandas as pd\n",
    "import seaborn as sns"
   ]
  },
  {
   "cell_type": "code",
   "execution_count": null,
   "id": "0b0de6bb",
   "metadata": {},
   "outputs": [],
   "source": [
    "data = pd.read_csv(\"loan_approval_dataset.csv\")\n",
    "data.columns = data.columns.str.strip() # remove whitespace\n",
    "\n",
    "target_column = 'loan_status'\n",
    "numerical_features = data.select_dtypes(include=[np.number])\n",
    "unique_targets = data[target_column].unique()\n",
    "\n",
    "# Plot features vs target variable\n",
    "for column in numerical_features.columns:\n",
    "    plt.figure(figsize=(8, 6))\n",
    "    for target in unique_targets:\n",
    "        subset = data[data[target_column] == target]\n",
    "        plt.hist(subset[column], bins=20, alpha=0.7, label=f'{target}')\n",
    "    plt.title(f\"{column} vs {target_column} (Supervised)\")\n",
    "    plt.xlabel(column)\n",
    "    plt.ylabel(\"Frequency\")\n",
    "    plt.legend(title=target_column)\n",
    "    plt.grid(axis='y', linestyle='--', alpha=0.7)\n",
    "    plt.show()"
   ]
  },
  {
   "cell_type": "markdown",
   "id": "d6635b2a-690d-4bed-a372-c54da5b06f0b",
   "metadata": {},
   "source": [
    "### creating histograms for each feature"
   ]
  },
  {
   "cell_type": "code",
   "execution_count": null,
   "id": "8819ce85-4f74-4762-88de-2df9a5617023",
   "metadata": {},
   "outputs": [],
   "source": [
    "numerical_features = data.select_dtypes(include=[np.number])\n",
    "\n",
    "# Plotting histograms for each numerical feature\n",
    "for column in numerical_features.columns:\n",
    "    plt.figure(figsize=(6, 4))\n",
    "    plt.hist(numerical_features[column], bins=20, edgecolor='k', alpha=0.7)\n",
    "    plt.title(f\"Histogram of {column}\")\n",
    "    plt.xlabel(column)\n",
    "    plt.ylabel(\"Frequency\")\n",
    "    plt.grid(axis='y', linestyle='--', alpha=0.7)\n",
    "    plt.show()\n"
   ]
  },
  {
   "cell_type": "markdown",
   "id": "f306b8bd-8046-4438-9392-84fe4fd6084a",
   "metadata": {},
   "source": [
    "### Create a correlation matrix of the numerical features"
   ]
  },
  {
   "cell_type": "code",
   "execution_count": null,
   "id": "6bd2ba4e-6f96-4564-aa53-ed0a7f882199",
   "metadata": {},
   "outputs": [],
   "source": [
    "correlation_matrix = numerical_features.corr()\n",
    "\n",
    "# Display the correlation matrix as a heatmap for better visualization\n",
    "plt.figure(figsize=(10, 8))\n",
    "sns.heatmap(correlation_matrix, annot=True, fmt=\".2f\", cmap=\"coolwarm\", cbar=True)\n",
    "plt.title(\"Correlation Matrix of Numerical Features\")\n",
    "plt.show()"
   ]
  },
  {
   "cell_type": "code",
   "execution_count": null,
   "id": "abf7acc7-c8a5-4bb2-979d-b7f15ffc02a8",
   "metadata": {},
   "outputs": [],
   "source": []
  }
 ],
 "metadata": {
  "kernelspec": {
   "display_name": "Python 3 (ipykernel)",
   "language": "python",
   "name": "python3"
  },
  "language_info": {
   "codemirror_mode": {
    "name": "ipython",
    "version": 3
   },
   "file_extension": ".py",
   "mimetype": "text/x-python",
   "name": "python",
   "nbconvert_exporter": "python",
   "pygments_lexer": "ipython3",
   "version": "3.12.4"
  }
 },
 "nbformat": 4,
 "nbformat_minor": 5
}
